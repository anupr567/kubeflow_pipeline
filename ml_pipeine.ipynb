{
 "cells": [
  {
   "cell_type": "code",
   "execution_count": 11,
   "id": "6cb1cb7d-00e1-45f9-bdb6-f3c68fae4b71",
   "metadata": {},
   "outputs": [
    {
     "name": "stdout",
     "output_type": "stream",
     "text": [
      "Note: you may need to restart the kernel to use updated packages.\n"
     ]
    }
   ],
   "source": [
    "%pip install --quiet kfp python-dateutil --upgrade"
   ]
  },
  {
   "cell_type": "markdown",
   "id": "cc9c9c22-4816-463c-a429-cd118ad52645",
   "metadata": {},
   "source": [
    "### Clone Github repository"
   ]
  },
  {
   "cell_type": "code",
   "execution_count": 2,
   "id": "177bbee0-0182-4afa-beb2-d4b3697d8cd2",
   "metadata": {},
   "outputs": [
    {
     "name": "stdout",
     "output_type": "stream",
     "text": [
      "Cloning into 'kubeflow_pipeline'...\n",
      "remote: Enumerating objects: 135, done.\u001b[K\n",
      "remote: Counting objects: 100% (135/135), done.\u001b[K\n",
      "remote: Compressing objects: 100% (123/123), done.\u001b[K\n",
      "remote: Total 135 (delta 51), reused 0 (delta 0), pack-reused 0\u001b[K\n",
      "Receiving objects: 100% (135/135), 28.69 KiB | 1.91 MiB/s, done.\n",
      "Resolving deltas: 100% (51/51), done.\n"
     ]
    }
   ],
   "source": [
    "!git clone https://github.com/anupr567/kubeflow_pipeline.git"
   ]
  },
  {
   "cell_type": "markdown",
   "id": "9cba749a-af89-4c62-ba9c-226231145b2f",
   "metadata": {},
   "source": [
    "### Create each component image and push to GCR (Google Container Registry)\n",
    "Here the cloudbuild.yaml file is created through shell script to build and push the image."
   ]
  },
  {
   "cell_type": "code",
   "execution_count": 60,
   "id": "9507ed96-6c73-455a-af66-abdadb6e308e",
   "metadata": {},
   "outputs": [],
   "source": [
    "%%bash\n",
    "cd kubeflow_pipeline/     # this should be githib repo name\n",
    "bash build_all.sh"
   ]
  },
  {
   "cell_type": "markdown",
   "id": "507ec0c3-8e76-4a9b-86ea-b1a3cf32fdac",
   "metadata": {
    "tags": []
   },
   "source": [
    "### Deploy pipeline"
   ]
  },
  {
   "cell_type": "code",
   "execution_count": 53,
   "id": "f67361da-696f-4c87-83cb-5bc266fdfd4c",
   "metadata": {},
   "outputs": [],
   "source": [
    "# CHANGE THESE\n",
    "PIPELINES_HOST='https://2b5369d44a8cb313-dot-us-central1.pipelines.googleusercontent.com'   # Kubeflow Pipeline UI Url\n",
    "PROJECT='dotted-lens-131912'"
   ]
  },
  {
   "cell_type": "code",
   "execution_count": 54,
   "id": "0f010970-ab42-4f87-ba2b-ff03f568c46f",
   "metadata": {},
   "outputs": [],
   "source": [
    "import kfp\n",
    "import os\n",
    "client = kfp.Client(host=PIPELINES_HOST)"
   ]
  },
  {
   "cell_type": "code",
   "execution_count": 57,
   "id": "5e51d31f-e395-440a-8fa7-01a82307b7fe",
   "metadata": {},
   "outputs": [],
   "source": [
    "%%bash\n",
    "cd kubeflow_pipeline/\n",
    "python kfp_pipeline.py"
   ]
  },
  {
   "cell_type": "markdown",
   "id": "b38f121d-76dc-4aa6-9891-009826de0769",
   "metadata": {},
   "source": [
    "### Create build triggers\n",
    "Connect the Github repo to Cloudbuild configure trigger"
   ]
  },
  {
   "cell_type": "code",
   "execution_count": 56,
   "id": "83611b45-badc-432d-8c3c-df0ae201828f",
   "metadata": {},
   "outputs": [
    {
     "name": "stdout",
     "output_type": "stream",
     "text": [
      "components/extract_data\n",
      "NAME     CREATE_TIME                STATUS\n",
      "trigger  2021-12-02T06:39:36+00:00\n",
      "components/linear_regression\n",
      "NAME         CREATE_TIME                STATUS\n",
      "trigger-000  2021-12-02T06:39:37+00:00\n",
      "components/preprocess\n",
      "NAME         CREATE_TIME                STATUS\n",
      "trigger-001  2021-12-02T06:39:38+00:00\n"
     ]
    },
    {
     "name": "stderr",
     "output_type": "stream",
     "text": [
      "Created [https://cloudbuild.googleapis.com/v1/projects/dotted-lens-131912/locations/global/triggers/bc88b179-1a5e-4dea-90fb-c8b74d36a0a8].\n",
      "Created [https://cloudbuild.googleapis.com/v1/projects/dotted-lens-131912/locations/global/triggers/1999f978-0678-4b63-9200-94b671533f38].\n",
      "Created [https://cloudbuild.googleapis.com/v1/projects/dotted-lens-131912/locations/global/triggers/7c7ff469-a97e-48b3-93ce-4c04b471c1c3].\n"
     ]
    }
   ],
   "source": [
    "%%bash\n",
    "cd kubeflow_pipeline\n",
    "bash setup_github_trigger.sh"
   ]
  },
  {
   "cell_type": "code",
   "execution_count": null,
   "id": "51e00657-ee0a-4859-a2a8-199624ef57e9",
   "metadata": {},
   "outputs": [],
   "source": []
  }
 ],
 "metadata": {
  "environment": {
   "kernel": "python3",
   "name": "common-cpu.m86",
   "type": "gcloud",
   "uri": "gcr.io/deeplearning-platform-release/base-cpu:m86"
  },
  "kernelspec": {
   "display_name": "Python 3",
   "language": "python",
   "name": "python3"
  },
  "language_info": {
   "codemirror_mode": {
    "name": "ipython",
    "version": 3
   },
   "file_extension": ".py",
   "mimetype": "text/x-python",
   "name": "python",
   "nbconvert_exporter": "python",
   "pygments_lexer": "ipython3",
   "version": "3.7.12"
  }
 },
 "nbformat": 4,
 "nbformat_minor": 5
}
